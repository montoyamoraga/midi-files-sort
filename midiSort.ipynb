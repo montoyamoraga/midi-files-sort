{
 "cells": [
  {
   "cell_type": "markdown",
   "id": "dental-cutting",
   "metadata": {},
   "source": [
    "# midiSort\n"
   ]
  },
  {
   "cell_type": "code",
   "execution_count": 3,
   "id": "tough-advocate",
   "metadata": {},
   "outputs": [
    {
     "name": "stdout",
     "output_type": "stream",
     "text": [
      "Python 3.9.9\n"
     ]
    }
   ],
   "source": [
    "# December 2021\n",
    "\n",
    "# print Python version\n",
    "!python --version"
   ]
  },
  {
   "cell_type": "code",
   "execution_count": null,
   "id": "endangered-composition",
   "metadata": {},
   "outputs": [],
   "source": [
    "#################\n",
    "# install modules\n",
    "#################\n",
    "\n",
    "!{sys.executable} -m pip install mido"
   ]
  },
  {
   "cell_type": "code",
   "execution_count": null,
   "id": "short-germany",
   "metadata": {},
   "outputs": [],
   "source": [
    "################\n",
    "# import modules\n",
    "################\n",
    "\n",
    "# sys for command line arguments\n",
    "import sys\n",
    "\n",
    "# os for listing files and directories\n",
    "import os\n",
    "\n",
    "# Path for creating new directories and files\n",
    "from pathlib import Path\n",
    "\n",
    "# csv for CSV files\n",
    "import csv\n",
    "\n",
    "# mido for MIDI files\n",
    "from mido import MetaMessage\n",
    "from mido import MidiFile"
   ]
  },
  {
   "cell_type": "code",
   "execution_count": null,
   "id": "regulated-asthma",
   "metadata": {},
   "outputs": [],
   "source": [
    "###################\n",
    "# default variables\n",
    "###################\n",
    "\n",
    "libraryPathOriginal = \"libraryOriginal\"\n",
    "libraryPathNew = \"libraryNew\"\n",
    "\n",
    "libraryCSVFileName = \"libraryNew.csv\"\n",
    "\n",
    "# variable for storing the names of each MIDI file\n",
    "midiFilesNames = []\n",
    "midiFilesPaths = []"
   ]
  },
  {
   "cell_type": "code",
   "execution_count": null,
   "id": "seeing-biotechnology",
   "metadata": {},
   "outputs": [],
   "source": [
    "##############################\n",
    "# create files and directories\n",
    "##############################\n",
    "\n",
    "# if it doesnt exist, create new directory for storing the modified library\n",
    "def createDirectories():\n",
    "  Path(\"./\" + libraryPathNew).mkdir(parents=True, exist_ok=True)\n",
    "\n",
    "# create new file with CSV list\n",
    "def createFiles():\n",
    "  newFile = open(\"./\" + libraryPathNew + \"/\" + libraryCSVFileName, \"w\")\n",
    "  writer = csv.writer(newFile)\n",
    "  newFile.close()"
   ]
  }
 ],
 "metadata": {
  "kernelspec": {
   "display_name": "Python 3",
   "language": "python",
   "name": "python3"
  },
  "language_info": {
   "codemirror_mode": {
    "name": "ipython",
    "version": 3
   },
   "file_extension": ".py",
   "mimetype": "text/x-python",
   "name": "python",
   "nbconvert_exporter": "python",
   "pygments_lexer": "ipython3",
   "version": "3.9.9"
  }
 },
 "nbformat": 4,
 "nbformat_minor": 5
}
