{
 "cells": [
  {
   "cell_type": "markdown",
   "id": "specified-jacksonville",
   "metadata": {},
   "source": [
    "# midiSort\n"
   ]
  },
  {
   "cell_type": "code",
   "execution_count": 3,
   "id": "substantial-gothic",
   "metadata": {},
   "outputs": [
    {
     "name": "stdout",
     "output_type": "stream",
     "text": [
      "Python 3.9.9\n"
     ]
    }
   ],
   "source": [
    "# print Python version\n",
    "!python --version"
   ]
  },
  {
   "cell_type": "code",
   "execution_count": null,
   "id": "tired-incident",
   "metadata": {},
   "outputs": [],
   "source": [
    "# install modules\n",
    "\n",
    "!{sys.executable} -m pip install mido"
   ]
  },
  {
   "cell_type": "code",
   "execution_count": null,
   "id": "compressed-seminar",
   "metadata": {},
   "outputs": [],
   "source": [
    "# import modules\n",
    "\n",
    "import sys\n",
    "\n",
    "import os\n",
    "\n",
    "# mido module for MIDI\n",
    "from mido import MetaMessage\n",
    "from mido import MidiFile"
   ]
  }
 ],
 "metadata": {
  "kernelspec": {
   "display_name": "Python 3",
   "language": "python",
   "name": "python3"
  },
  "language_info": {
   "codemirror_mode": {
    "name": "ipython",
    "version": 3
   },
   "file_extension": ".py",
   "mimetype": "text/x-python",
   "name": "python",
   "nbconvert_exporter": "python",
   "pygments_lexer": "ipython3",
   "version": "3.9.9"
  }
 },
 "nbformat": 4,
 "nbformat_minor": 5
}
